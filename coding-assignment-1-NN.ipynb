{
 "cells": [
  {
   "cell_type": "code",
   "execution_count": 79,
   "metadata": {},
   "outputs": [],
   "source": [
    "import numpy as np\n",
    "import pandas as pd\n",
    "# from sklearn import neighbors\n",
    "# from sklearn.model_selection import train_test_split"
   ]
  },
  {
   "cell_type": "code",
   "execution_count": 80,
   "metadata": {},
   "outputs": [],
   "source": [
    "# For your assignment, you have implement function \"train_test_split\" and\n",
    "# module \"neighbors\" on your own. This means you will have to make the code working\n",
    "# without any modification in cells 2-6\n",
    "\n",
    "df = pd.read_csv('breast-cancer-wisconsin.csv')\n",
    "df.replace('?', -99999, inplace=True)\n",
    "df.drop(['id'], axis=1, inplace=True)\n",
    "\n",
    "x = np.array(df.drop(['class'], axis=1))\n",
    "y = np.array(df['class'])"
   ]
  },
  {
   "cell_type": "markdown",
   "metadata": {},
   "source": [
    "### Split dataset"
   ]
  },
  {
   "cell_type": "code",
   "execution_count": 81,
   "metadata": {},
   "outputs": [],
   "source": [
    "import math\n",
    "def split_data(x, y, test_size) :\n",
    "  y = y[None]\n",
    "  data = np.concatenate((x, y.T), axis=1)\n",
    "  np.random.shuffle(data)\n",
    "\n",
    "  test_size = math.ceil(data.shape[0] * test_size)\n",
    "  train_size = data.shape[0] - test_size\n",
    "\n",
    "  x = data[:, :-1]\n",
    "  y = data[:, -1].astype('int')\n",
    "  \n",
    "  x_train_res = x[:train_size]\n",
    "  y_train_res = y[:train_size]\n",
    "  x_test_res = x[train_size:]\n",
    "  y_test_res = y[train_size:]\n",
    "\n",
    "  return x_train_res, x_test_res, y_train_res, y_test_res"
   ]
  },
  {
   "cell_type": "code",
   "execution_count": 82,
   "metadata": {},
   "outputs": [],
   "source": [
    "x_train, x_test, y_train, y_test = split_data(x, y, test_size=0.2)"
   ]
  },
  {
   "cell_type": "code",
   "execution_count": 83,
   "metadata": {},
   "outputs": [
    {
     "data": {
      "text/plain": [
       "((559, 9), (140, 9), (559,), (140,))"
      ]
     },
     "execution_count": 83,
     "metadata": {},
     "output_type": "execute_result"
    }
   ],
   "source": [
    "x_train.shape, x_test.shape, y_train.shape, y_test.shape"
   ]
  },
  {
   "cell_type": "markdown",
   "metadata": {},
   "source": [
    "### KNN"
   ]
  },
  {
   "cell_type": "code",
   "execution_count": 84,
   "metadata": {},
   "outputs": [],
   "source": [
    "from sklearn.metrics import accuracy_score\n",
    "from scipy import stats as st\n",
    "class knn :\n",
    "  def __init__(self, n_neighbors) :\n",
    "    self.n_neighbors = n_neighbors\n",
    "\n",
    "  def fit(self, x_train, y_train) :\n",
    "    self.x_train = x_train.astype('int')\n",
    "    self.y_train = y_train.astype('int')\n",
    "  \n",
    "  def predict(self, x_pred) :\n",
    "    y_pred_reslut = []\n",
    "    for i in x_pred :\n",
    "      distance_y = []\n",
    "      for x,y in zip(self.x_train, self.y_train):\n",
    "        dist = self.euclideanDistance(x, i)\n",
    "        distance_y.append([dist, y])\n",
    "      distance_y.sort()\n",
    "      min_distance = list(np.array(distance_y[:self.n_neighbors])[:, -1].astype('int'))\n",
    "      # find mode and push in array\n",
    "      y_pred_reslut.append(max(set(min_distance), key=min_distance.count))\n",
    "    return y_pred_reslut\n",
    "\n",
    "  def euclideanDistance(self, p, q) :\n",
    "    sumDis = 0\n",
    "    for i, j in zip(p,q) :\n",
    "      sumDis += math.pow(int(i) - int(j), 2)\n",
    "    return math.sqrt(sumDis)\n",
    "  \n",
    "  def score(self, x, y) :\n",
    "    return accuracy_score(y, self.predict(x))"
   ]
  },
  {
   "cell_type": "markdown",
   "metadata": {},
   "source": [
    "### Train"
   ]
  },
  {
   "cell_type": "code",
   "execution_count": 85,
   "metadata": {},
   "outputs": [],
   "source": [
    "knnModel = knn(n_neighbors=7)\n",
    "knnModel.fit(x_train, y_train)"
   ]
  },
  {
   "cell_type": "markdown",
   "metadata": {},
   "source": [
    "### Test"
   ]
  },
  {
   "cell_type": "code",
   "execution_count": 86,
   "metadata": {},
   "outputs": [
    {
     "name": "stdout",
     "output_type": "stream",
     "text": [
      "[4]\n"
     ]
    }
   ],
   "source": [
    "new_x = np.array([[4,6,5,6,7,8,4,9,1]])\n",
    "result = knnModel.predict(new_x)\n",
    "print(result)"
   ]
  },
  {
   "cell_type": "code",
   "execution_count": 87,
   "metadata": {},
   "outputs": [
    {
     "name": "stdout",
     "output_type": "stream",
     "text": [
      "0.9785714285714285\n"
     ]
    }
   ],
   "source": [
    "print(knnModel.score(x_test, y_test))"
   ]
  },
  {
   "cell_type": "code",
   "execution_count": 88,
   "metadata": {},
   "outputs": [],
   "source": [
    "# h = neighbors.KNeighborsClassifier(n_neighbors=7, p=2)\n",
    "# h.fit(x_train, y_train)"
   ]
  },
  {
   "cell_type": "code",
   "execution_count": 89,
   "metadata": {},
   "outputs": [],
   "source": [
    "# new_x = np.array([4,6,5,6,7,8,4,9,1])\n",
    "# result = h.predict(new_x.reshape(1, -1))\n",
    "# print(result)"
   ]
  },
  {
   "cell_type": "code",
   "execution_count": 90,
   "metadata": {},
   "outputs": [],
   "source": [
    "# print(h.score(x_test, y_test))"
   ]
  }
 ],
 "metadata": {
  "kernelspec": {
   "display_name": "envtf",
   "language": "python",
   "name": "envtf"
  },
  "language_info": {
   "codemirror_mode": {
    "name": "ipython",
    "version": 3
   },
   "file_extension": ".py",
   "mimetype": "text/x-python",
   "name": "python",
   "nbconvert_exporter": "python",
   "pygments_lexer": "ipython3",
   "version": "3.9.15"
  }
 },
 "nbformat": 4,
 "nbformat_minor": 4
}
